{
 "cells": [
  {
   "cell_type": "markdown",
   "id": "3b703e2c-e3cb-4197-ae9c-9dedb9be90f7",
   "metadata": {},
   "source": [
    "# CALIFICADOR AUTOMÁTICO DE EXÁMENES"
   ]
  },
  {
   "cell_type": "markdown",
   "id": "4404821a-25d2-4102-b705-6aaf66166499",
   "metadata": {},
   "source": [
    "Pasos:\n",
    "\n",
    "1. Segmentación por detección de bordes\n",
    "2. Correción de Perspectiva\n",
    "3. Obtener respuesta para cada pregunta\n",
    "    - Dividimos en 26 Filas (hay 26 preguntas)\n",
    "    - Dividimos en 5 columnas (hay 5 opciones)\n",
    "    - Podemos ver la respuesta del usuario por las intensidades medias o por el mínimo (más negro)\n",
    "4. Comparar estas respuestas marcadas por el usuario con las correctas\n",
    "5. Entregar Calificación"
   ]
  },
  {
   "cell_type": "markdown",
   "id": "96fa5247-2fef-49e4-82c1-5ef705f86f40",
   "metadata": {},
   "source": [
    "#### 1. Segmentación\n",
    "\n",
    "- 1.1 Canny\n",
    "- 1.2 ConvexHull\n",
    "- 1.3 Selección objeto con mayor \n",
    "- 1.4 máscara\n",
    "\n",
    "![img](../images/calificador.png)"
   ]
  },
  {
   "cell_type": "code",
   "execution_count": null,
   "id": "055776bc-e063-4937-a353-0805674eb097",
   "metadata": {},
   "outputs": [],
   "source": []
  },
  {
   "cell_type": "code",
   "execution_count": null,
   "id": "36a76203-f9ac-4b2e-9909-949c5f09f672",
   "metadata": {},
   "outputs": [],
   "source": []
  }
 ],
 "metadata": {
  "kernelspec": {
   "display_name": "Python 3 (ipykernel)",
   "language": "python",
   "name": "python3"
  },
  "language_info": {
   "codemirror_mode": {
    "name": "ipython",
    "version": 3
   },
   "file_extension": ".py",
   "mimetype": "text/x-python",
   "name": "python",
   "nbconvert_exporter": "python",
   "pygments_lexer": "ipython3",
   "version": "3.10.4"
  }
 },
 "nbformat": 4,
 "nbformat_minor": 5
}
